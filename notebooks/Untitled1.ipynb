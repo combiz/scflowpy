{
 "cells": [
  {
   "cell_type": "code",
   "execution_count": 1,
   "id": "60537a08-ff49-4937-8faa-284492bd686f",
   "metadata": {},
   "outputs": [],
   "source": [
    "def read_sce(folder_path):\n",
    "    \"\"\"Read a scFlow SingleCellExperiment from a folder into an AnnData Object\n",
    "    Parameters\n",
    "    ---------\n",
    "    folder_path: str\n",
    "        Folder path to the previously saved SingleCellExperiment from scFlow\n",
    "\n",
    "    Returns\n",
    "    ---------\n",
    "    adata: AnnData\n",
    "        An AnnData object\n",
    "    \"\"\"\n",
    "\n",
    "    assert_that(folder_path, instance_of(str))\n",
    "    print(\"hello world\")"
   ]
  },
  {
   "cell_type": "code",
   "execution_count": 5,
   "id": "247d3bba-a4e1-499c-956b-a28587968b6b",
   "metadata": {},
   "outputs": [
    {
     "ename": "NameError",
     "evalue": "name 'assert_that' is not defined",
     "output_type": "error",
     "traceback": [
      "\u001b[0;31m---------------------------------------------------------------------------\u001b[0m",
      "\u001b[0;31mNameError\u001b[0m                                 Traceback (most recent call last)",
      "\u001b[0;32m<ipython-input-5-ee66de613ea9>\u001b[0m in \u001b[0;36m<module>\u001b[0;34m\u001b[0m\n\u001b[0;32m----> 1\u001b[0;31m \u001b[0mread_sce\u001b[0m\u001b[0;34m(\u001b[0m\u001b[0;34m\"~/\"\u001b[0m\u001b[0;34m)\u001b[0m\u001b[0;34m\u001b[0m\u001b[0;34m\u001b[0m\u001b[0m\n\u001b[0m",
      "\u001b[0;32m<ipython-input-1-60be49c4ea80>\u001b[0m in \u001b[0;36mread_sce\u001b[0;34m(folder_path)\u001b[0m\n\u001b[1;32m     12\u001b[0m     \"\"\"\n\u001b[1;32m     13\u001b[0m \u001b[0;34m\u001b[0m\u001b[0m\n\u001b[0;32m---> 14\u001b[0;31m     \u001b[0massert_that\u001b[0m\u001b[0;34m(\u001b[0m\u001b[0mfolder_path\u001b[0m\u001b[0;34m,\u001b[0m \u001b[0minstance_of\u001b[0m\u001b[0;34m(\u001b[0m\u001b[0mstr\u001b[0m\u001b[0;34m)\u001b[0m\u001b[0;34m)\u001b[0m\u001b[0;34m\u001b[0m\u001b[0;34m\u001b[0m\u001b[0m\n\u001b[0m\u001b[1;32m     15\u001b[0m     \u001b[0mprint\u001b[0m\u001b[0;34m(\u001b[0m\u001b[0;34m\"hello world\"\u001b[0m\u001b[0;34m)\u001b[0m\u001b[0;34m\u001b[0m\u001b[0;34m\u001b[0m\u001b[0m\n",
      "\u001b[0;31mNameError\u001b[0m: name 'assert_that' is not defined"
     ]
    }
   ],
   "source": [
    "read_sce(\"~/\")\n",
    "# see https://anndata.readthedocs.io/en/stable/anndata.AnnData.html"
   ]
  },
  {
   "cell_type": "code",
   "execution_count": 14,
   "id": "0ceffa65-dec8-47e1-86bc-fb24320aff2c",
   "metadata": {},
   "outputs": [],
   "source": [
    "folder_path = '/home/ckhozoie/Documents/junk/final_sce'"
   ]
  },
  {
   "cell_type": "code",
   "execution_count": 15,
   "id": "017be35b-b266-4677-a987-21b1544bceb8",
   "metadata": {},
   "outputs": [
    {
     "data": {
      "text/plain": [
       "'/home/ckhozoie/Documents/junk/final_sce/matrix.mtx.gz'"
      ]
     },
     "execution_count": 15,
     "metadata": {},
     "output_type": "execute_result"
    }
   ],
   "source": [
    "folder_path + \"/matrix.mtx.gz\""
   ]
  },
  {
   "cell_type": "code",
   "execution_count": 43,
   "id": "7c4cf201-c405-4421-b5f2-398a0b000cb5",
   "metadata": {},
   "outputs": [],
   "source": [
    "\n",
    "from anndata import read_mtx\n",
    "import pandas as pd\n",
    "from pathlib import Path"
   ]
  },
  {
   "cell_type": "code",
   "execution_count": 46,
   "id": "1e575d26-d58c-437d-8f56-1cf16081b17c",
   "metadata": {},
   "outputs": [],
   "source": [
    "folder_path = Path(folder_path)"
   ]
  },
  {
   "cell_type": "code",
   "execution_count": 173,
   "id": "9b228b0d-a527-4bac-9a0c-9e0d20abc7c3",
   "metadata": {},
   "outputs": [],
   "source": [
    "adata = read_mtx(folder_path / \"matrix.mtx.gz\")\n"
   ]
  },
  {
   "cell_type": "code",
   "execution_count": 175,
   "id": "f12323c6-a7a7-4539-baa3-aae0e486ad22",
   "metadata": {},
   "outputs": [],
   "source": [
    "coldata = pd.read_csv(folder_path / 'sce-coldata.tsv', header=0, sep='\\t')"
   ]
  },
  {
   "cell_type": "code",
   "execution_count": 174,
   "id": "e3b571bf-78e7-43ea-a65c-bdae79e1d85f",
   "metadata": {},
   "outputs": [],
   "source": [
    "adata = adata.transpose() # transposed vs dataframe"
   ]
  },
  {
   "cell_type": "code",
   "execution_count": 176,
   "id": "d02c8e72-1059-4eaf-baff-2c2f32e19861",
   "metadata": {},
   "outputs": [],
   "source": [
    "adata.obs = coldata\n",
    "adata.var = rowdata\n",
    "adata.var_names = adata.var[\"gene\"]\n",
    "adata.obs_names = adata.var[\"barcode\"]"
   ]
  },
  {
   "cell_type": "code",
   "execution_count": 177,
   "id": "e57aa5d7-2729-4798-bea3-312de413ec56",
   "metadata": {},
   "outputs": [],
   "source": [
    "rowdata = pd.read_csv(folder_path / 'sce-rowdata.tsv', header=0, sep='\\t')"
   ]
  },
  {
   "cell_type": "code",
   "execution_count": null,
   "id": "28d98989-104a-4ab2-85ab-e1c39b27ea52",
   "metadata": {},
   "outputs": [],
   "source": [
    "adata.obsm = "
   ]
  },
  {
   "cell_type": "code",
   "execution_count": 178,
   "id": "b3d64f84-67f0-415b-ae7b-1a8c7e6384a5",
   "metadata": {},
   "outputs": [
    {
     "data": {
      "text/plain": [
       "AnnData object with n_obs × n_vars = 12439 × 9809\n",
       "    obs: 'barcode', 'manifest', 'individual', 'diagnosis', 'sex', 'age', 'total_counts', 'total_features_by_counts', 'pc_mito', 'pc_ribo', 'clusters', 'partitions', 'cluster_celltype'\n",
       "    var: 'ensembl_gene_id', 'gene_biotype', 'gene', 'percentage_gene_gc_content', 'total_counts', 'n_cells_by_counts'\n",
       "    obsm: 'barcode'\n",
       "    varm: 'ensembl_gene_id'"
      ]
     },
     "execution_count": 178,
     "metadata": {},
     "output_type": "execute_result"
    }
   ],
   "source": [
    "adata"
   ]
  },
  {
   "cell_type": "code",
   "execution_count": 137,
   "id": "09ca5d92-6c93-4b79-803e-3344945153a2",
   "metadata": {},
   "outputs": [],
   "source": [
    "rd = pd.read_csv(folder_path / 'ReducedDim_UMAP3D_Liger.tsv', header=0, sep='\\t')"
   ]
  },
  {
   "cell_type": "code",
   "execution_count": 182,
   "id": "263dd2a0-cdce-41f5-925e-5fa19d03ab0e",
   "metadata": {},
   "outputs": [],
   "source": [
    "adata.obsm[\"UMAP3D_Liger\"] = rd.values"
   ]
  },
  {
   "cell_type": "code",
   "execution_count": 166,
   "id": "eae6f136-bbba-422e-93dc-b4bbde62686f",
   "metadata": {},
   "outputs": [],
   "source": []
  },
  {
   "cell_type": "code",
   "execution_count": 200,
   "id": "f43a034d-67e3-48be-ac34-da797d222680",
   "metadata": {},
   "outputs": [],
   "source": [
    "adata.var_names = adata.var[\"gene\"]"
   ]
  },
  {
   "cell_type": "code",
   "execution_count": 201,
   "id": "6b379396-3b36-42df-abf0-8cd80e34408d",
   "metadata": {},
   "outputs": [
    {
     "data": {
      "text/plain": [
       "AnnData object with n_obs × n_vars = 12439 × 9809\n",
       "    obs: 'barcode', 'manifest', 'individual', 'diagnosis', 'sex', 'age', 'total_counts', 'total_features_by_counts', 'pc_mito', 'pc_ribo', 'clusters', 'partitions', 'cluster_celltype'\n",
       "    var: 'ensembl_gene_id', 'gene_biotype', 'gene', 'percentage_gene_gc_content', 'total_counts', 'n_cells_by_counts'\n",
       "    obsm: 'barcode', 'UMAP3D_Liger'\n",
       "    varm: 'ensembl_gene_id'"
      ]
     },
     "execution_count": 201,
     "metadata": {},
     "output_type": "execute_result"
    }
   ],
   "source": [
    "adata"
   ]
  },
  {
   "cell_type": "code",
   "execution_count": 198,
   "id": "9003e17e-0e1d-462f-9f07-7e57fe772618",
   "metadata": {},
   "outputs": [],
   "source": []
  },
  {
   "cell_type": "code",
   "execution_count": 131,
   "id": "41925914-0a68-42e4-a716-c254e9067576",
   "metadata": {},
   "outputs": [
    {
     "data": {
      "text/plain": [
       "AnnData object with n_obs × n_vars = 9809 × 12439\n",
       "    obs: 'ensembl_gene_id', 'gene_biotype', 'gene', 'percentage_gene_gc_content', 'total_counts', 'n_cells_by_counts'\n",
       "    var: 'barcode', 'manifest', 'individual', 'diagnosis', 'sex', 'age', 'total_counts', 'total_features_by_counts', 'pc_mito', 'pc_ribo', 'clusters', 'partitions', 'cluster_celltype'\n",
       "    varm: 'UMAP3D_Liger'"
      ]
     },
     "execution_count": 131,
     "metadata": {},
     "output_type": "execute_result"
    }
   ],
   "source": [
    "adata"
   ]
  },
  {
   "cell_type": "code",
   "execution_count": 126,
   "id": "83cc6e00-67e0-4908-a789-cdbb3bc03c2b",
   "metadata": {},
   "outputs": [
    {
     "data": {
      "text/plain": [
       "AnnData object with n_obs × n_vars = 9809 × 12439\n",
       "    obs: 'ensembl_gene_id', 'gene_biotype', 'gene', 'percentage_gene_gc_content', 'total_counts', 'n_cells_by_counts'\n",
       "    var: 'barcode', 'manifest', 'individual', 'diagnosis', 'sex', 'age', 'total_counts', 'total_features_by_counts', 'pc_mito', 'pc_ribo', 'clusters', 'partitions', 'cluster_celltype'\n",
       "    varm: 'UMAP3D_Liger'"
      ]
     },
     "execution_count": 126,
     "metadata": {},
     "output_type": "execute_result"
    }
   ],
   "source": [
    "adata"
   ]
  },
  {
   "cell_type": "code",
   "execution_count": 202,
   "id": "251fcbec-d3c3-42ce-af25-1ebf3fadbc47",
   "metadata": {},
   "outputs": [
    {
     "data": {
      "image/png": "[encoded data removed]",
      "text/plain": [
       "<Figure size 288x288 with 2 Axes>"
      ]
     },
     "metadata": {
      "needs_background": "light"
     },
     "output_type": "display_data"
    }
   ],
   "source": [
    "import scanpy as sc\n",
    "import pandas as pd\n",
    "from matplotlib.pyplot import rc_context\n",
    "# rc_context is used for the figure size, in this case 4x4\n",
    "with rc_context({'figure.figsize': (4, 4)}):\n",
    "    sc.pl.embedding(adata, \"UMAP3D_Liger\", color = \"CD74\")"
   ]
  },
  {
   "cell_type": "code",
   "execution_count": 56,
   "id": "451047e2-8ff4-47a0-8609-841328948ddf",
   "metadata": {},
   "outputs": [],
   "source": [
    "genes = pd.read_csv(folder_path / 'features.tsv.gz', header=None, sep='\\t')"
   ]
  },
  {
   "cell_type": "code",
   "execution_count": 62,
   "id": "2594fa46-f8be-4d63-8071-dc44cd603f44",
   "metadata": {},
   "outputs": [
    {
     "ename": "ValueError",
     "evalue": "Length of passed value for obs_names is 12439, but this AnnData has shape: (9809, 12439)",
     "output_type": "error",
     "traceback": [
      "\u001b[0;31m---------------------------------------------------------------------------\u001b[0m",
      "\u001b[0;31mValueError\u001b[0m                                Traceback (most recent call last)",
      "\u001b[0;32m<ipython-input-88-9e8d95c3f7ca>\u001b[0m in \u001b[0;36m<module>\u001b[0;34m\u001b[0m\n\u001b[1;32m      1\u001b[0m \u001b[0mdf\u001b[0m \u001b[0;34m=\u001b[0m \u001b[0mpd\u001b[0m\u001b[0;34m.\u001b[0m\u001b[0mread_csv\u001b[0m\u001b[0;34m(\u001b[0m\u001b[0mfolder_path\u001b[0m \u001b[0;34m/\u001b[0m \u001b[0;34m'barcodes.tsv.gz'\u001b[0m\u001b[0;34m,\u001b[0m \u001b[0mheader\u001b[0m\u001b[0;34m=\u001b[0m\u001b[0;32mNone\u001b[0m\u001b[0;34m)\u001b[0m\u001b[0;34m.\u001b[0m\u001b[0mT\u001b[0m\u001b[0;34m\u001b[0m\u001b[0;34m\u001b[0m\u001b[0m\n\u001b[0;32m----> 2\u001b[0;31m \u001b[0madata\u001b[0m\u001b[0;34m.\u001b[0m\u001b[0mobs\u001b[0m \u001b[0;34m=\u001b[0m \u001b[0mpd\u001b[0m\u001b[0;34m.\u001b[0m\u001b[0mread_csv\u001b[0m\u001b[0;34m(\u001b[0m\u001b[0mfolder_path\u001b[0m \u001b[0;34m/\u001b[0m \u001b[0;34m'barcodes.tsv.gz'\u001b[0m\u001b[0;34m,\u001b[0m \u001b[0mheader\u001b[0m\u001b[0;34m=\u001b[0m\u001b[0;32mNone\u001b[0m\u001b[0;34m)\u001b[0m\u001b[0;34m\u001b[0m\u001b[0;34m\u001b[0m\u001b[0m\n\u001b[0m",
      "\u001b[0;32m~/PycharmProjects/scflowpy/.env/lib/python3.6/site-packages/anndata/_core/anndata.py\u001b[0m in \u001b[0;36mobs\u001b[0;34m(self, value)\u001b[0m\n\u001b[1;32m    860\u001b[0m     \u001b[0;34m@\u001b[0m\u001b[0mobs\u001b[0m\u001b[0;34m.\u001b[0m\u001b[0msetter\u001b[0m\u001b[0;34m\u001b[0m\u001b[0;34m\u001b[0m\u001b[0m\n\u001b[1;32m    861\u001b[0m     \u001b[0;32mdef\u001b[0m \u001b[0mobs\u001b[0m\u001b[0;34m(\u001b[0m\u001b[0mself\u001b[0m\u001b[0;34m,\u001b[0m \u001b[0mvalue\u001b[0m\u001b[0;34m:\u001b[0m \u001b[0mpd\u001b[0m\u001b[0;34m.\u001b[0m\u001b[0mDataFrame\u001b[0m\u001b[0;34m)\u001b[0m\u001b[0;34m:\u001b[0m\u001b[0;34m\u001b[0m\u001b[0;34m\u001b[0m\u001b[0m\n\u001b[0;32m--> 862\u001b[0;31m         \u001b[0mself\u001b[0m\u001b[0;34m.\u001b[0m\u001b[0m_set_dim_df\u001b[0m\u001b[0;34m(\u001b[0m\u001b[0mvalue\u001b[0m\u001b[0;34m,\u001b[0m \u001b[0;34m\"obs\"\u001b[0m\u001b[0;34m)\u001b[0m\u001b[0;34m\u001b[0m\u001b[0;34m\u001b[0m\u001b[0m\n\u001b[0m\u001b[1;32m    863\u001b[0m \u001b[0;34m\u001b[0m\u001b[0m\n\u001b[1;32m    864\u001b[0m     \u001b[0;34m@\u001b[0m\u001b[0mobs\u001b[0m\u001b[0;34m.\u001b[0m\u001b[0mdeleter\u001b[0m\u001b[0;34m\u001b[0m\u001b[0;34m\u001b[0m\u001b[0m\n",
      "\u001b[0;32m~/PycharmProjects/scflowpy/.env/lib/python3.6/site-packages/anndata/_core/anndata.py\u001b[0m in \u001b[0;36m_set_dim_df\u001b[0;34m(self, value, attr)\u001b[0m\n\u001b[1;32m    799\u001b[0m         \u001b[0;32mif\u001b[0m \u001b[0;32mnot\u001b[0m \u001b[0misinstance\u001b[0m\u001b[0;34m(\u001b[0m\u001b[0mvalue\u001b[0m\u001b[0;34m,\u001b[0m \u001b[0mpd\u001b[0m\u001b[0;34m.\u001b[0m\u001b[0mDataFrame\u001b[0m\u001b[0;34m)\u001b[0m\u001b[0;34m:\u001b[0m\u001b[0;34m\u001b[0m\u001b[0;34m\u001b[0m\u001b[0m\n\u001b[1;32m    800\u001b[0m             \u001b[0;32mraise\u001b[0m \u001b[0mValueError\u001b[0m\u001b[0;34m(\u001b[0m\u001b[0;34mf\"Can only assign pd.DataFrame to {attr}.\"\u001b[0m\u001b[0;34m)\u001b[0m\u001b[0;34m\u001b[0m\u001b[0;34m\u001b[0m\u001b[0m\n\u001b[0;32m--> 801\u001b[0;31m         \u001b[0mvalue_idx\u001b[0m \u001b[0;34m=\u001b[0m \u001b[0mself\u001b[0m\u001b[0;34m.\u001b[0m\u001b[0m_prep_dim_index\u001b[0m\u001b[0;34m(\u001b[0m\u001b[0mvalue\u001b[0m\u001b[0;34m.\u001b[0m\u001b[0mindex\u001b[0m\u001b[0;34m,\u001b[0m \u001b[0mattr\u001b[0m\u001b[0;34m)\u001b[0m\u001b[0;34m\u001b[0m\u001b[0;34m\u001b[0m\u001b[0m\n\u001b[0m\u001b[1;32m    802\u001b[0m         \u001b[0;32mif\u001b[0m \u001b[0mself\u001b[0m\u001b[0;34m.\u001b[0m\u001b[0mis_view\u001b[0m\u001b[0;34m:\u001b[0m\u001b[0;34m\u001b[0m\u001b[0;34m\u001b[0m\u001b[0m\n\u001b[1;32m    803\u001b[0m             \u001b[0mself\u001b[0m\u001b[0;34m.\u001b[0m\u001b[0m_init_as_actual\u001b[0m\u001b[0;34m(\u001b[0m\u001b[0mself\u001b[0m\u001b[0;34m.\u001b[0m\u001b[0mcopy\u001b[0m\u001b[0;34m(\u001b[0m\u001b[0;34m)\u001b[0m\u001b[0;34m)\u001b[0m\u001b[0;34m\u001b[0m\u001b[0;34m\u001b[0m\u001b[0m\n",
      "\u001b[0;32m~/PycharmProjects/scflowpy/.env/lib/python3.6/site-packages/anndata/_core/anndata.py\u001b[0m in \u001b[0;36m_prep_dim_index\u001b[0;34m(self, value, attr)\u001b[0m\n\u001b[1;32m    812\u001b[0m         \u001b[0;32mif\u001b[0m \u001b[0mself\u001b[0m\u001b[0;34m.\u001b[0m\u001b[0mshape\u001b[0m\u001b[0;34m[\u001b[0m\u001b[0mattr\u001b[0m \u001b[0;34m==\u001b[0m \u001b[0;34m\"var\"\u001b[0m\u001b[0;34m]\u001b[0m \u001b[0;34m!=\u001b[0m \u001b[0mlen\u001b[0m\u001b[0;34m(\u001b[0m\u001b[0mvalue\u001b[0m\u001b[0;34m)\u001b[0m\u001b[0;34m:\u001b[0m\u001b[0;34m\u001b[0m\u001b[0;34m\u001b[0m\u001b[0m\n\u001b[1;32m    813\u001b[0m             raise ValueError(\n\u001b[0;32m--> 814\u001b[0;31m                 \u001b[0;34mf\"Length of passed value for {attr}_names is {len(value)}, but this AnnData has shape: {self.shape}\"\u001b[0m\u001b[0;34m\u001b[0m\u001b[0;34m\u001b[0m\u001b[0m\n\u001b[0m\u001b[1;32m    815\u001b[0m             )\n\u001b[1;32m    816\u001b[0m         if isinstance(value, pd.Index) and not isinstance(\n",
      "\u001b[0;31mValueError\u001b[0m: Length of passed value for obs_names is 12439, but this AnnData has shape: (9809, 12439)"
     ]
    }
   ],
   "source": [
    "adata.barcode = pd.read_csv(folder_path / 'barcodes.tsv.gz', header=None)[0]"
   ]
  },
  {
   "cell_type": "code",
   "execution_count": 64,
   "id": "3807c536-c1df-4695-8f6d-ce5c0a96a306",
   "metadata": {},
   "outputs": [
    {
     "data": {
      "text/plain": [
       "0          bavaf_6_Teinh_1\n",
       "1          bavaf_6_Teinh_2\n",
       "2          bavaf_6_Teinh_3\n",
       "3          bavaf_6_Teinh_4\n",
       "4          bavaf_6_Teinh_6\n",
       "               ...        \n",
       "12434    zoron_4_MOL1_2174\n",
       "12435    zoron_4_MOL1_2175\n",
       "12436    zoron_4_MOL1_2176\n",
       "12437    zoron_4_MOL1_2177\n",
       "12438    zoron_4_MOL1_2178\n",
       "Name: 0, Length: 12439, dtype: object"
      ]
     },
     "execution_count": 76,
     "metadata": {},
     "output_type": "execute_result"
    }
   ],
   "source": []
  },
  {
   "cell_type": "code",
   "execution_count": 65,
   "id": "20d070ba-9204-4798-bdc8-649acd02358b",
   "metadata": {},
   "outputs": [
    {
     "data": {
      "text/plain": [
       "0          bavaf_6_Teinh_1\n",
       "1          bavaf_6_Teinh_2\n",
       "2          bavaf_6_Teinh_3\n",
       "3          bavaf_6_Teinh_4\n",
       "4          bavaf_6_Teinh_6\n",
       "               ...        \n",
       "12434    zoron_4_MOL1_2174\n",
       "12435    zoron_4_MOL1_2175\n",
       "12436    zoron_4_MOL1_2176\n",
       "12437    zoron_4_MOL1_2177\n",
       "12438    zoron_4_MOL1_2178\n",
       "Name: 0, Length: 12439, dtype: object"
      ]
     },
     "execution_count": 65,
     "metadata": {},
     "output_type": "execute_result"
    }
   ],
   "source": [
    " pd.read_csv(folder_path / 'barcodes.tsv.gz', header=None)[0]"
   ]
  },
  {
   "cell_type": "code",
   "execution_count": 66,
   "id": "94acf8a8-cc9a-41f7-aca1-6bad75639e5e",
   "metadata": {},
   "outputs": [
    {
     "ename": "ValueError",
     "evalue": "Length of values (9809) does not match length of index (12439)",
     "output_type": "error",
     "traceback": [
      "\u001b[0;31m---------------------------------------------------------------------------\u001b[0m",
      "\u001b[0;31mValueError\u001b[0m                                Traceback (most recent call last)",
      "\u001b[0;32m<ipython-input-66-b884c48e92ad>\u001b[0m in \u001b[0;36m<module>\u001b[0;34m\u001b[0m\n\u001b[0;32m----> 1\u001b[0;31m \u001b[0madata\u001b[0m\u001b[0;34m.\u001b[0m\u001b[0mvar\u001b[0m\u001b[0;34m[\u001b[0m\u001b[0;34m'ensembl_gene_id'\u001b[0m\u001b[0;34m]\u001b[0m \u001b[0;34m=\u001b[0m \u001b[0mgenes\u001b[0m\u001b[0;34m[\u001b[0m\u001b[0;36m0\u001b[0m\u001b[0;34m]\u001b[0m\u001b[0;34m.\u001b[0m\u001b[0mvalues\u001b[0m\u001b[0;34m\u001b[0m\u001b[0;34m\u001b[0m\u001b[0m\n\u001b[0m",
      "\u001b[0;32m~/PycharmProjects/scflowpy/.env/lib/python3.6/site-packages/pandas/core/frame.py\u001b[0m in \u001b[0;36m__setitem__\u001b[0;34m(self, key, value)\u001b[0m\n\u001b[1;32m   3042\u001b[0m         \u001b[0;32melse\u001b[0m\u001b[0;34m:\u001b[0m\u001b[0;34m\u001b[0m\u001b[0;34m\u001b[0m\u001b[0m\n\u001b[1;32m   3043\u001b[0m             \u001b[0;31m# set column\u001b[0m\u001b[0;34m\u001b[0m\u001b[0;34m\u001b[0m\u001b[0;34m\u001b[0m\u001b[0m\n\u001b[0;32m-> 3044\u001b[0;31m             \u001b[0mself\u001b[0m\u001b[0;34m.\u001b[0m\u001b[0m_set_item\u001b[0m\u001b[0;34m(\u001b[0m\u001b[0mkey\u001b[0m\u001b[0;34m,\u001b[0m \u001b[0mvalue\u001b[0m\u001b[0;34m)\u001b[0m\u001b[0;34m\u001b[0m\u001b[0;34m\u001b[0m\u001b[0m\n\u001b[0m\u001b[1;32m   3045\u001b[0m \u001b[0;34m\u001b[0m\u001b[0m\n\u001b[1;32m   3046\u001b[0m     \u001b[0;32mdef\u001b[0m \u001b[0m_setitem_slice\u001b[0m\u001b[0;34m(\u001b[0m\u001b[0mself\u001b[0m\u001b[0;34m,\u001b[0m \u001b[0mkey\u001b[0m\u001b[0;34m:\u001b[0m \u001b[0mslice\u001b[0m\u001b[0;34m,\u001b[0m \u001b[0mvalue\u001b[0m\u001b[0;34m)\u001b[0m\u001b[0;34m:\u001b[0m\u001b[0;34m\u001b[0m\u001b[0;34m\u001b[0m\u001b[0m\n",
      "\u001b[0;32m~/PycharmProjects/scflowpy/.env/lib/python3.6/site-packages/pandas/core/frame.py\u001b[0m in \u001b[0;36m_set_item\u001b[0;34m(self, key, value)\u001b[0m\n\u001b[1;32m   3118\u001b[0m         \"\"\"\n\u001b[1;32m   3119\u001b[0m         \u001b[0mself\u001b[0m\u001b[0;34m.\u001b[0m\u001b[0m_ensure_valid_index\u001b[0m\u001b[0;34m(\u001b[0m\u001b[0mvalue\u001b[0m\u001b[0;34m)\u001b[0m\u001b[0;34m\u001b[0m\u001b[0;34m\u001b[0m\u001b[0m\n\u001b[0;32m-> 3120\u001b[0;31m         \u001b[0mvalue\u001b[0m \u001b[0;34m=\u001b[0m \u001b[0mself\u001b[0m\u001b[0;34m.\u001b[0m\u001b[0m_sanitize_column\u001b[0m\u001b[0;34m(\u001b[0m\u001b[0mkey\u001b[0m\u001b[0;34m,\u001b[0m \u001b[0mvalue\u001b[0m\u001b[0;34m)\u001b[0m\u001b[0;34m\u001b[0m\u001b[0;34m\u001b[0m\u001b[0m\n\u001b[0m\u001b[1;32m   3121\u001b[0m         \u001b[0mNDFrame\u001b[0m\u001b[0;34m.\u001b[0m\u001b[0m_set_item\u001b[0m\u001b[0;34m(\u001b[0m\u001b[0mself\u001b[0m\u001b[0;34m,\u001b[0m \u001b[0mkey\u001b[0m\u001b[0;34m,\u001b[0m \u001b[0mvalue\u001b[0m\u001b[0;34m)\u001b[0m\u001b[0;34m\u001b[0m\u001b[0;34m\u001b[0m\u001b[0m\n\u001b[1;32m   3122\u001b[0m \u001b[0;34m\u001b[0m\u001b[0m\n",
      "\u001b[0;32m~/PycharmProjects/scflowpy/.env/lib/python3.6/site-packages/pandas/core/frame.py\u001b[0m in \u001b[0;36m_sanitize_column\u001b[0;34m(self, key, value, broadcast)\u001b[0m\n\u001b[1;32m   3766\u001b[0m \u001b[0;34m\u001b[0m\u001b[0m\n\u001b[1;32m   3767\u001b[0m             \u001b[0;31m# turn me into an ndarray\u001b[0m\u001b[0;34m\u001b[0m\u001b[0;34m\u001b[0m\u001b[0;34m\u001b[0m\u001b[0m\n\u001b[0;32m-> 3768\u001b[0;31m             \u001b[0mvalue\u001b[0m \u001b[0;34m=\u001b[0m \u001b[0msanitize_index\u001b[0m\u001b[0;34m(\u001b[0m\u001b[0mvalue\u001b[0m\u001b[0;34m,\u001b[0m \u001b[0mself\u001b[0m\u001b[0;34m.\u001b[0m\u001b[0mindex\u001b[0m\u001b[0;34m)\u001b[0m\u001b[0;34m\u001b[0m\u001b[0;34m\u001b[0m\u001b[0m\n\u001b[0m\u001b[1;32m   3769\u001b[0m             \u001b[0;32mif\u001b[0m \u001b[0;32mnot\u001b[0m \u001b[0misinstance\u001b[0m\u001b[0;34m(\u001b[0m\u001b[0mvalue\u001b[0m\u001b[0;34m,\u001b[0m \u001b[0;34m(\u001b[0m\u001b[0mnp\u001b[0m\u001b[0;34m.\u001b[0m\u001b[0mndarray\u001b[0m\u001b[0;34m,\u001b[0m \u001b[0mIndex\u001b[0m\u001b[0;34m)\u001b[0m\u001b[0;34m)\u001b[0m\u001b[0;34m:\u001b[0m\u001b[0;34m\u001b[0m\u001b[0;34m\u001b[0m\u001b[0m\n\u001b[1;32m   3770\u001b[0m                 \u001b[0;32mif\u001b[0m \u001b[0misinstance\u001b[0m\u001b[0;34m(\u001b[0m\u001b[0mvalue\u001b[0m\u001b[0;34m,\u001b[0m \u001b[0mlist\u001b[0m\u001b[0;34m)\u001b[0m \u001b[0;32mand\u001b[0m \u001b[0mlen\u001b[0m\u001b[0;34m(\u001b[0m\u001b[0mvalue\u001b[0m\u001b[0;34m)\u001b[0m \u001b[0;34m>\u001b[0m \u001b[0;36m0\u001b[0m\u001b[0;34m:\u001b[0m\u001b[0;34m\u001b[0m\u001b[0;34m\u001b[0m\u001b[0m\n",
      "\u001b[0;32m~/PycharmProjects/scflowpy/.env/lib/python3.6/site-packages/pandas/core/internals/construction.py\u001b[0m in \u001b[0;36msanitize_index\u001b[0;34m(data, index)\u001b[0m\n\u001b[1;32m    746\u001b[0m     \u001b[0;32mif\u001b[0m \u001b[0mlen\u001b[0m\u001b[0;34m(\u001b[0m\u001b[0mdata\u001b[0m\u001b[0;34m)\u001b[0m \u001b[0;34m!=\u001b[0m \u001b[0mlen\u001b[0m\u001b[0;34m(\u001b[0m\u001b[0mindex\u001b[0m\u001b[0;34m)\u001b[0m\u001b[0;34m:\u001b[0m\u001b[0;34m\u001b[0m\u001b[0;34m\u001b[0m\u001b[0m\n\u001b[1;32m    747\u001b[0m         raise ValueError(\n\u001b[0;32m--> 748\u001b[0;31m             \u001b[0;34m\"Length of values \"\u001b[0m\u001b[0;34m\u001b[0m\u001b[0;34m\u001b[0m\u001b[0m\n\u001b[0m\u001b[1;32m    749\u001b[0m             \u001b[0;34mf\"({len(data)}) \"\u001b[0m\u001b[0;34m\u001b[0m\u001b[0;34m\u001b[0m\u001b[0m\n\u001b[1;32m    750\u001b[0m             \u001b[0;34m\"does not match length of index \"\u001b[0m\u001b[0;34m\u001b[0m\u001b[0;34m\u001b[0m\u001b[0m\n",
      "\u001b[0;31mValueError\u001b[0m: Length of values (9809) does not match length of index (12439)"
     ]
    }
   ],
   "source": [
    "adata.var['ensembl_gene_id'] = genes[0].values"
   ]
  },
  {
   "cell_type": "code",
   "execution_count": 34,
   "id": "5f688307-679d-48ee-8bd6-56f39d058c54",
   "metadata": {},
   "outputs": [
    {
     "ename": "NameError",
     "evalue": "name '_empty' is not defined",
     "output_type": "error",
     "traceback": [
      "\u001b[0;31m---------------------------------------------------------------------------\u001b[0m",
      "\u001b[0;31mNameError\u001b[0m                                 Traceback (most recent call last)",
      "\u001b[0;32m<ipython-input-34-1a3e48f4d7e4>\u001b[0m in \u001b[0;36m<module>\u001b[0;34m\u001b[0m\n\u001b[1;32m      4\u001b[0m     \u001b[0mmake_unique\u001b[0m\u001b[0;34m=\u001b[0m\u001b[0;32mTrue\u001b[0m\u001b[0;34m,\u001b[0m\u001b[0;34m\u001b[0m\u001b[0;34m\u001b[0m\u001b[0m\n\u001b[1;32m      5\u001b[0m     \u001b[0mcache\u001b[0m\u001b[0;34m=\u001b[0m\u001b[0;32mFalse\u001b[0m\u001b[0;34m,\u001b[0m\u001b[0;34m\u001b[0m\u001b[0;34m\u001b[0m\u001b[0m\n\u001b[0;32m----> 6\u001b[0;31m     \u001b[0mcache_compression\u001b[0m\u001b[0;34m=\u001b[0m\u001b[0m_empty\u001b[0m\u001b[0;34m,\u001b[0m\u001b[0;34m\u001b[0m\u001b[0;34m\u001b[0m\u001b[0m\n\u001b[0m\u001b[1;32m      7\u001b[0m ):\n\u001b[1;32m      8\u001b[0m     \"\"\"\n",
      "\u001b[0;31mNameError\u001b[0m: name '_empty' is not defined"
     ]
    }
   ],
   "source": [
    "def _read_v3_10x_mtx_mod(\n",
    "    path,\n",
    "    var_names='gene_symbols',\n",
    "    make_unique=True,\n",
    "    cache=False,\n",
    "    cache_compression=_empty,\n",
    "):\n",
    "    \"\"\"\n",
    "    Read mex from output from Cell Ranger v3 or later versions\n",
    "    \"\"\"\n",
    "    path = Path(path)\n",
    "    adata = read(\n",
    "        path / 'matrix.mtx.gz',\n",
    "        cache=cache,\n",
    "        cache_compression=cache_compression\n",
    "    ).T  # transpose the data\n",
    "    genes = pd.read_csv(path / 'features.tsv.gz', header=None, sep='\\t')\n",
    "    if var_names == 'gene_symbols':\n",
    "        var_names = genes[1]\n",
    "        if make_unique:\n",
    "            var_names = anndata.utils.make_index_unique(pd.Index(var_names))\n",
    "        adata.var_names = var_names\n",
    "        adata.var['gene_ids'] = genes[0].values\n",
    "    elif var_names == 'gene_ids':\n",
    "        adata.var_names = genes[0]\n",
    "        adata.var['gene_symbols'] = genes[1].values\n",
    "    else:\n",
    "        raise ValueError(\"`var_names` needs to be 'gene_symbols' or 'gene_ids'\")\n",
    "    adata.var['feature_types'] = genes[2].values\n",
    "    adata.obs_names = pd.read_csv(path / 'barcodes.tsv.gz', header=None)[0]\n",
    "    return adata"
   ]
  }
 ],
 "metadata": {
  "kernelspec": {
   "display_name": "Python 3",
   "language": "python",
   "name": "python3"
  },
  "language_info": {
   "codemirror_mode": {
    "name": "ipython",
    "version": 3
   },
   "file_extension": ".py",
   "mimetype": "text/x-python",
   "name": "python",
   "nbconvert_exporter": "python",
   "pygments_lexer": "ipython3",
   "version": "3.6.9"
  }
 },
 "nbformat": 4,
 "nbformat_minor": 5
}
