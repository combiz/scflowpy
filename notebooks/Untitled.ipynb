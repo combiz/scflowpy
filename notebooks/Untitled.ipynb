{
 "cells": [
  {
   "cell_type": "code",
   "execution_count": null,
   "id": "f0b4b2f9-5a60-4492-bfbd-b381d3b445d5",
   "metadata": {},
   "outputs": [],
   "source": [
    "import sys\n",
    "\n",
    "# make sure to use position 1\n",
    "sys.path.insert(1, \"/home/ckhozoie/Pycharmprojects/\")\n",
    "import scflowpy"
   ]
  },
  {
   "cell_type": "code",
   "execution_count": null,
   "id": "cdb70147-0415-405c-ae01-bf9c5158a3d9",
   "metadata": {},
   "outputs": [],
   "source": [
    "scflowpy.read_sce()"
   ]
  },
  {
   "cell_type": "code",
   "execution_count": 1,
   "id": "8f34a616-aca1-4730-b2ba-6c6e12ce8d47",
   "metadata": {},
   "outputs": [],
   "source": [
    "import sys\n",
    "import os\n",
    "\n",
    "module_path = os.path.abspath(os.path.join(os.pardir, os.pardir))\n",
    "if module_path not in sys.path:\n",
    "    sys.path.append(module_path)"
   ]
  },
  {
   "cell_type": "code",
   "execution_count": 10,
   "id": "f075fdb5-cf80-476e-9150-37d684d1bdb5",
   "metadata": {},
   "outputs": [],
   "source": [
    "from scflowpy import *\n",
    "import lib"
   ]
  },
  {
   "cell_type": "code",
   "execution_count": 11,
   "id": "67cd9698-a7c8-4874-9567-30039c570cfc",
   "metadata": {},
   "outputs": [
    {
     "name": "stdout",
     "output_type": "stream",
     "text": [
      "hello world\n"
     ]
    }
   ],
   "source": [
    "read_sce(\"hi\")"
   ]
  },
  {
   "cell_type": "code",
   "execution_count": 4,
   "id": "b4643302-2193-4ce1-9c7e-85abfb744d89",
   "metadata": {},
   "outputs": [
    {
     "data": {
      "text/plain": [
       "['__author__',\n",
       " '__builtins__',\n",
       " '__cached__',\n",
       " '__doc__',\n",
       " '__email__',\n",
       " '__file__',\n",
       " '__loader__',\n",
       " '__name__',\n",
       " '__package__',\n",
       " '__path__',\n",
       " '__spec__',\n",
       " '__version__',\n",
       " 'hello_world',\n",
       " 'pd',\n",
       " 'read_sce',\n",
       " 'scflowpy',\n",
       " 'sys']"
      ]
     },
     "execution_count": 4,
     "metadata": {},
     "output_type": "execute_result"
    }
   ],
   "source": [
    "dir(scflowpy)"
   ]
  },
  {
   "cell_type": "code",
   "execution_count": 33,
   "id": "28e7d967-f52f-40fd-a421-b276df0e543e",
   "metadata": {},
   "outputs": [
    {
     "name": "stdout",
     "output_type": "stream",
     "text": [
      "Help on package scflowpy:\n",
      "\n",
      "NAME\n",
      "    scflowpy - Top-level package for scflowpy.\n",
      "\n",
      "PACKAGE CONTENTS\n",
      "    cli\n",
      "    read_sce\n",
      "    scflowpy\n",
      "    template\n",
      "\n",
      "DATA\n",
      "    __email__ = 'c.khozoie@imperial.ac.uk'\n",
      "\n",
      "VERSION\n",
      "    0.1.0\n",
      "\n",
      "AUTHOR\n",
      "    Combiz Khozoie\n",
      "\n",
      "FILE\n",
      "    /home/ckhozoie/PycharmProjects/scflowpy/scflowpy/__init__.py\n",
      "\n",
      "\n"
     ]
    }
   ],
   "source": [
    "help(scflowpy)"
   ]
  },
  {
   "cell_type": "code",
   "execution_count": 24,
   "id": "8d8ad5f6-2d27-4112-a803-83d78064a6d1",
   "metadata": {},
   "outputs": [
    {
     "ename": "NameError",
     "evalue": "name 'hello_world' is not defined",
     "output_type": "error",
     "traceback": [
      "\u001b[0;31m---------------------------------------------------------------------------\u001b[0m",
      "\u001b[0;31mNameError\u001b[0m                                 Traceback (most recent call last)",
      "\u001b[0;32m<ipython-input-24-cb3310fd1801>\u001b[0m in \u001b[0;36m<module>\u001b[0;34m\u001b[0m\n\u001b[0;32m----> 1\u001b[0;31m \u001b[0mhello_world\u001b[0m\u001b[0;34m(\u001b[0m\u001b[0;34m)\u001b[0m\u001b[0;34m\u001b[0m\u001b[0;34m\u001b[0m\u001b[0m\n\u001b[0m",
      "\u001b[0;31mNameError\u001b[0m: name 'hello_world' is not defined"
     ]
    }
   ],
   "source": [
    "hello_world()"
   ]
  },
  {
   "cell_type": "code",
   "execution_count": null,
   "id": "7d8eb7df-bcf9-4e6f-9c5b-12167b1c294c",
   "metadata": {},
   "outputs": [],
   "source": []
  }
 ],
 "metadata": {
  "kernelspec": {
   "display_name": "Python 3",
   "language": "python",
   "name": "python3"
  },
  "language_info": {
   "codemirror_mode": {
    "name": "ipython",
    "version": 3
   },
   "file_extension": ".py",
   "mimetype": "text/x-python",
   "name": "python",
   "nbconvert_exporter": "python",
   "pygments_lexer": "ipython3",
   "version": "3.6.9"
  }
 },
 "nbformat": 4,
 "nbformat_minor": 5
}
